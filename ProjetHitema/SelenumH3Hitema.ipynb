{
 "cells": [
  {
   "cell_type": "code",
   "execution_count": 4,
   "metadata": {},
   "outputs": [],
   "source": [
    "# Titre: Projet de Web Scraping - H3 Hitema\n",
    "# Auteur: Baptiste RINGLER\n",
    "\n",
    "# Ce projet vise à extraire les titres, les formations, etc. du site H3 Hitema en utilisant Selenium.\n"
   ]
  },
  {
   "cell_type": "code",
   "execution_count": 6,
   "metadata": {},
   "outputs": [
    {
     "name": "stdout",
     "output_type": "stream",
     "text": [
      "Requirement already satisfied: selenium in c:\\users\\bapti\\anaconda3\\lib\\site-packages (4.18.1)\n",
      "Requirement already satisfied: webdriver-manager in c:\\users\\bapti\\anaconda3\\lib\\site-packages (4.0.1)\n",
      "Requirement already satisfied: pandas in c:\\users\\bapti\\anaconda3\\lib\\site-packages (2.0.3)\n",
      "Requirement already satisfied: sqlalchemy in c:\\users\\bapti\\anaconda3\\lib\\site-packages (1.4.39)\n",
      "Requirement already satisfied: pymongo in c:\\users\\bapti\\anaconda3\\lib\\site-packages (4.6.2)\n",
      "Requirement already satisfied: urllib3[socks]<3,>=1.26 in c:\\users\\bapti\\anaconda3\\lib\\site-packages (from selenium) (1.26.16)\n",
      "Requirement already satisfied: trio~=0.17 in c:\\users\\bapti\\anaconda3\\lib\\site-packages (from selenium) (0.25.0)\n",
      "Requirement already satisfied: trio-websocket~=0.9 in c:\\users\\bapti\\anaconda3\\lib\\site-packages (from selenium) (0.11.1)\n",
      "Requirement already satisfied: certifi>=2021.10.8 in c:\\users\\bapti\\anaconda3\\lib\\site-packages (from selenium) (2023.11.17)\n",
      "Requirement already satisfied: typing_extensions>=4.9.0 in c:\\users\\bapti\\anaconda3\\lib\\site-packages (from selenium) (4.10.0)\n",
      "Requirement already satisfied: requests in c:\\users\\bapti\\anaconda3\\lib\\site-packages (from webdriver-manager) (2.31.0)\n",
      "Requirement already satisfied: python-dotenv in c:\\users\\bapti\\anaconda3\\lib\\site-packages (from webdriver-manager) (0.21.0)\n",
      "Requirement already satisfied: packaging in c:\\users\\bapti\\anaconda3\\lib\\site-packages (from webdriver-manager) (23.1)\n",
      "Requirement already satisfied: python-dateutil>=2.8.2 in c:\\users\\bapti\\anaconda3\\lib\\site-packages (from pandas) (2.8.2)\n",
      "Requirement already satisfied: pytz>=2020.1 in c:\\users\\bapti\\anaconda3\\lib\\site-packages (from pandas) (2023.3.post1)\n",
      "Requirement already satisfied: tzdata>=2022.1 in c:\\users\\bapti\\anaconda3\\lib\\site-packages (from pandas) (2023.3)\n",
      "Requirement already satisfied: numpy>=1.21.0 in c:\\users\\bapti\\anaconda3\\lib\\site-packages (from pandas) (1.24.3)\n",
      "Requirement already satisfied: greenlet!=0.4.17 in c:\\users\\bapti\\anaconda3\\lib\\site-packages (from sqlalchemy) (2.0.1)\n",
      "Requirement already satisfied: dnspython<3.0.0,>=1.16.0 in c:\\users\\bapti\\anaconda3\\lib\\site-packages (from pymongo) (2.6.1)\n",
      "Requirement already satisfied: six>=1.5 in c:\\users\\bapti\\anaconda3\\lib\\site-packages (from python-dateutil>=2.8.2->pandas) (1.16.0)\n",
      "Requirement already satisfied: attrs>=23.2.0 in c:\\users\\bapti\\anaconda3\\lib\\site-packages (from trio~=0.17->selenium) (23.2.0)\n",
      "Requirement already satisfied: sortedcontainers in c:\\users\\bapti\\anaconda3\\lib\\site-packages (from trio~=0.17->selenium) (2.4.0)\n",
      "Requirement already satisfied: idna in c:\\users\\bapti\\anaconda3\\lib\\site-packages (from trio~=0.17->selenium) (3.4)\n",
      "Requirement already satisfied: outcome in c:\\users\\bapti\\anaconda3\\lib\\site-packages (from trio~=0.17->selenium) (1.3.0.post0)\n",
      "Requirement already satisfied: sniffio>=1.3.0 in c:\\users\\bapti\\anaconda3\\lib\\site-packages (from trio~=0.17->selenium) (1.3.1)\n",
      "Requirement already satisfied: cffi>=1.14 in c:\\users\\bapti\\anaconda3\\lib\\site-packages (from trio~=0.17->selenium) (1.15.1)\n",
      "Requirement already satisfied: wsproto>=0.14 in c:\\users\\bapti\\anaconda3\\lib\\site-packages (from trio-websocket~=0.9->selenium) (1.2.0)\n",
      "Requirement already satisfied: PySocks!=1.5.7,<2.0,>=1.5.6 in c:\\users\\bapti\\anaconda3\\lib\\site-packages (from urllib3[socks]<3,>=1.26->selenium) (1.7.1)\n",
      "Requirement already satisfied: charset-normalizer<4,>=2 in c:\\users\\bapti\\anaconda3\\lib\\site-packages (from requests->webdriver-manager) (2.0.4)\n",
      "Requirement already satisfied: pycparser in c:\\users\\bapti\\anaconda3\\lib\\site-packages (from cffi>=1.14->trio~=0.17->selenium) (2.21)\n",
      "Requirement already satisfied: h11<1,>=0.9.0 in c:\\users\\bapti\\anaconda3\\lib\\site-packages (from wsproto>=0.14->trio-websocket~=0.9->selenium) (0.14.0)\n"
     ]
    }
   ],
   "source": [
    "!pip install selenium webdriver-manager pandas sqlalchemy pymongo\n"
   ]
  },
  {
   "cell_type": "code",
   "execution_count": 27,
   "metadata": {},
   "outputs": [
    {
     "name": "stdout",
     "output_type": "stream",
     "text": [
      "Catégorie: BTS INFORMATIQUE (BAC+2)\n",
      "--------------------\n",
      "Titre de la formation: BTS CIEL Cybersécurité\n"
     ]
    },
    {
     "ename": "NoSuchElementException",
     "evalue": "Message: no such element: Unable to locate element: {\"method\":\"css selector\",\"selector\":\".list-badge\"}\n  (Session info: chrome=123.0.6312.59); For documentation on this error, please visit: https://www.selenium.dev/documentation/webdriver/troubleshooting/errors#no-such-element-exception\nStacktrace:\n\tGetHandleVerifier [0x010A4CC3+225091]\n\t(No symbol) [0x00FD4E11]\n\t(No symbol) [0x00E79A7A]\n\t(No symbol) [0x00EB175B]\n\t(No symbol) [0x00EB188B]\n\t(No symbol) [0x00EA9391]\n\t(No symbol) [0x00ECF5A4]\n\t(No symbol) [0x00EA930E]\n\t(No symbol) [0x00ECF7F4]\n\t(No symbol) [0x00EE5CB0]\n\t(No symbol) [0x00ECF2F6]\n\t(No symbol) [0x00EA79B9]\n\t(No symbol) [0x00EA879D]\n\tsqlite3_dbdata_init [0x01519A63+4064547]\n\tsqlite3_dbdata_init [0x0152106A+4094762]\n\tsqlite3_dbdata_init [0x0151B968+4072488]\n\tsqlite3_dbdata_init [0x0121C9C9+930953]\n\t(No symbol) [0x00FE07E4]\n\t(No symbol) [0x00FDAD08]\n\t(No symbol) [0x00FDAE31]\n\t(No symbol) [0x00FCCAA0]\n\tBaseThreadInitThunk [0x75677BA9+25]\n\tRtlInitializeExceptionChain [0x773DBD2B+107]\n\tRtlClearBits [0x773DBCAF+191]\n",
     "output_type": "error",
     "traceback": [
      "\u001b[1;31m---------------------------------------------------------------------------\u001b[0m",
      "\u001b[1;31mNoSuchElementException\u001b[0m                    Traceback (most recent call last)",
      "Cell \u001b[1;32mIn[27], line 51\u001b[0m\n\u001b[0;32m     48\u001b[0m title \u001b[38;5;241m=\u001b[39m title_element\u001b[38;5;241m.\u001b[39mtext\n\u001b[0;32m     49\u001b[0m \u001b[38;5;28mprint\u001b[39m(\u001b[38;5;124m\"\u001b[39m\u001b[38;5;124mTitre de la formation:\u001b[39m\u001b[38;5;124m\"\u001b[39m, title)\n\u001b[1;32m---> 51\u001b[0m badge_list \u001b[38;5;241m=\u001b[39m card\u001b[38;5;241m.\u001b[39mfind_element(By\u001b[38;5;241m.\u001b[39mCLASS_NAME, \u001b[38;5;124m\"\u001b[39m\u001b[38;5;124mlist-badge\u001b[39m\u001b[38;5;124m\"\u001b[39m)\n\u001b[0;32m     52\u001b[0m badges \u001b[38;5;241m=\u001b[39m badge_list\u001b[38;5;241m.\u001b[39mfind_elements(By\u001b[38;5;241m.\u001b[39mTAG_NAME, \u001b[38;5;124m\"\u001b[39m\u001b[38;5;124mspan\u001b[39m\u001b[38;5;124m\"\u001b[39m)\n\u001b[0;32m     53\u001b[0m badge_texts \u001b[38;5;241m=\u001b[39m [badge\u001b[38;5;241m.\u001b[39mtext \u001b[38;5;28;01mfor\u001b[39;00m badge \u001b[38;5;129;01min\u001b[39;00m badges]\n",
      "File \u001b[1;32mc:\\Users\\bapti\\anaconda3\\Lib\\site-packages\\selenium\\webdriver\\remote\\webelement.py:417\u001b[0m, in \u001b[0;36mWebElement.find_element\u001b[1;34m(self, by, value)\u001b[0m\n\u001b[0;32m    414\u001b[0m     by \u001b[38;5;241m=\u001b[39m By\u001b[38;5;241m.\u001b[39mCSS_SELECTOR\n\u001b[0;32m    415\u001b[0m     value \u001b[38;5;241m=\u001b[39m \u001b[38;5;124mf\u001b[39m\u001b[38;5;124m'\u001b[39m\u001b[38;5;124m[name=\u001b[39m\u001b[38;5;124m\"\u001b[39m\u001b[38;5;132;01m{\u001b[39;00mvalue\u001b[38;5;132;01m}\u001b[39;00m\u001b[38;5;124m\"\u001b[39m\u001b[38;5;124m]\u001b[39m\u001b[38;5;124m'\u001b[39m\n\u001b[1;32m--> 417\u001b[0m \u001b[38;5;28;01mreturn\u001b[39;00m \u001b[38;5;28mself\u001b[39m\u001b[38;5;241m.\u001b[39m_execute(Command\u001b[38;5;241m.\u001b[39mFIND_CHILD_ELEMENT, {\u001b[38;5;124m\"\u001b[39m\u001b[38;5;124musing\u001b[39m\u001b[38;5;124m\"\u001b[39m: by, \u001b[38;5;124m\"\u001b[39m\u001b[38;5;124mvalue\u001b[39m\u001b[38;5;124m\"\u001b[39m: value})[\u001b[38;5;124m\"\u001b[39m\u001b[38;5;124mvalue\u001b[39m\u001b[38;5;124m\"\u001b[39m]\n",
      "File \u001b[1;32mc:\\Users\\bapti\\anaconda3\\Lib\\site-packages\\selenium\\webdriver\\remote\\webelement.py:395\u001b[0m, in \u001b[0;36mWebElement._execute\u001b[1;34m(self, command, params)\u001b[0m\n\u001b[0;32m    393\u001b[0m     params \u001b[38;5;241m=\u001b[39m {}\n\u001b[0;32m    394\u001b[0m params[\u001b[38;5;124m\"\u001b[39m\u001b[38;5;124mid\u001b[39m\u001b[38;5;124m\"\u001b[39m] \u001b[38;5;241m=\u001b[39m \u001b[38;5;28mself\u001b[39m\u001b[38;5;241m.\u001b[39m_id\n\u001b[1;32m--> 395\u001b[0m \u001b[38;5;28;01mreturn\u001b[39;00m \u001b[38;5;28mself\u001b[39m\u001b[38;5;241m.\u001b[39m_parent\u001b[38;5;241m.\u001b[39mexecute(command, params)\n",
      "File \u001b[1;32mc:\\Users\\bapti\\anaconda3\\Lib\\site-packages\\selenium\\webdriver\\remote\\webdriver.py:347\u001b[0m, in \u001b[0;36mWebDriver.execute\u001b[1;34m(self, driver_command, params)\u001b[0m\n\u001b[0;32m    345\u001b[0m response \u001b[38;5;241m=\u001b[39m \u001b[38;5;28mself\u001b[39m\u001b[38;5;241m.\u001b[39mcommand_executor\u001b[38;5;241m.\u001b[39mexecute(driver_command, params)\n\u001b[0;32m    346\u001b[0m \u001b[38;5;28;01mif\u001b[39;00m response:\n\u001b[1;32m--> 347\u001b[0m     \u001b[38;5;28mself\u001b[39m\u001b[38;5;241m.\u001b[39merror_handler\u001b[38;5;241m.\u001b[39mcheck_response(response)\n\u001b[0;32m    348\u001b[0m     response[\u001b[38;5;124m\"\u001b[39m\u001b[38;5;124mvalue\u001b[39m\u001b[38;5;124m\"\u001b[39m] \u001b[38;5;241m=\u001b[39m \u001b[38;5;28mself\u001b[39m\u001b[38;5;241m.\u001b[39m_unwrap_value(response\u001b[38;5;241m.\u001b[39mget(\u001b[38;5;124m\"\u001b[39m\u001b[38;5;124mvalue\u001b[39m\u001b[38;5;124m\"\u001b[39m, \u001b[38;5;28;01mNone\u001b[39;00m))\n\u001b[0;32m    349\u001b[0m     \u001b[38;5;28;01mreturn\u001b[39;00m response\n",
      "File \u001b[1;32mc:\\Users\\bapti\\anaconda3\\Lib\\site-packages\\selenium\\webdriver\\remote\\errorhandler.py:229\u001b[0m, in \u001b[0;36mErrorHandler.check_response\u001b[1;34m(self, response)\u001b[0m\n\u001b[0;32m    227\u001b[0m         alert_text \u001b[38;5;241m=\u001b[39m value[\u001b[38;5;124m\"\u001b[39m\u001b[38;5;124malert\u001b[39m\u001b[38;5;124m\"\u001b[39m]\u001b[38;5;241m.\u001b[39mget(\u001b[38;5;124m\"\u001b[39m\u001b[38;5;124mtext\u001b[39m\u001b[38;5;124m\"\u001b[39m)\n\u001b[0;32m    228\u001b[0m     \u001b[38;5;28;01mraise\u001b[39;00m exception_class(message, screen, stacktrace, alert_text)  \u001b[38;5;66;03m# type: ignore[call-arg]  # mypy is not smart enough here\u001b[39;00m\n\u001b[1;32m--> 229\u001b[0m \u001b[38;5;28;01mraise\u001b[39;00m exception_class(message, screen, stacktrace)\n",
      "\u001b[1;31mNoSuchElementException\u001b[0m: Message: no such element: Unable to locate element: {\"method\":\"css selector\",\"selector\":\".list-badge\"}\n  (Session info: chrome=123.0.6312.59); For documentation on this error, please visit: https://www.selenium.dev/documentation/webdriver/troubleshooting/errors#no-such-element-exception\nStacktrace:\n\tGetHandleVerifier [0x010A4CC3+225091]\n\t(No symbol) [0x00FD4E11]\n\t(No symbol) [0x00E79A7A]\n\t(No symbol) [0x00EB175B]\n\t(No symbol) [0x00EB188B]\n\t(No symbol) [0x00EA9391]\n\t(No symbol) [0x00ECF5A4]\n\t(No symbol) [0x00EA930E]\n\t(No symbol) [0x00ECF7F4]\n\t(No symbol) [0x00EE5CB0]\n\t(No symbol) [0x00ECF2F6]\n\t(No symbol) [0x00EA79B9]\n\t(No symbol) [0x00EA879D]\n\tsqlite3_dbdata_init [0x01519A63+4064547]\n\tsqlite3_dbdata_init [0x0152106A+4094762]\n\tsqlite3_dbdata_init [0x0151B968+4072488]\n\tsqlite3_dbdata_init [0x0121C9C9+930953]\n\t(No symbol) [0x00FE07E4]\n\t(No symbol) [0x00FDAD08]\n\t(No symbol) [0x00FDAE31]\n\t(No symbol) [0x00FCCAA0]\n\tBaseThreadInitThunk [0x75677BA9+25]\n\tRtlInitializeExceptionChain [0x773DBD2B+107]\n\tRtlClearBits [0x773DBCAF+191]\n"
     ]
    }
   ],
   "source": [
    "from selenium import webdriver\n",
    "from selenium.webdriver.chrome.service import Service\n",
    "from webdriver_manager.chrome import ChromeDriverManager\n",
    "from selenium.webdriver.common.by import By\n",
    "from selenium.webdriver.support.ui import WebDriverWait\n",
    "from selenium.webdriver.support import expected_conditions as EC\n",
    "import time\n",
    "\n",
    "def highlight(element):\n",
    "    \"\"\"Surligne un élément Selenium sur la page.\"\"\"\n",
    "    driver.execute_script(\"arguments[0].style.border='3px solid red'\", element)\n",
    "\n",
    "service = Service(ChromeDriverManager().install())\n",
    "driver = webdriver.Chrome(service=service)\n",
    "\n",
    "driver.get(\"https://www.h3hitema.fr/formations-informatiques/\")\n",
    "time.sleep(2)\n",
    "\n",
    "cookie_button = WebDriverWait(driver, 10).until(\n",
    "    EC.element_to_be_clickable((By.XPATH, '//*[@id=\"cmplz-cookiebanner-container\"]/div/div[6]/button[1]'))\n",
    ")\n",
    "cookie_button.click()\n",
    "\n",
    "def incremental_scroll(driver, increments=10, delay=1):\n",
    "    for i in range(increments):\n",
    "        scroll_position = driver.execute_script(\"return document.body.scrollHeight\") * (i+1) / increments\n",
    "        driver.execute_script(f\"window.scrollTo(0, {scroll_position});\")\n",
    "        time.sleep(delay)\n",
    "\n",
    "incremental_scroll(driver, increments=10, delay=1)\n",
    "\n",
    "main_div = WebDriverWait(driver, 10).until(\n",
    "    EC.visibility_of_element_located((By.ID, \"list__formations\"))\n",
    ")\n",
    "\n",
    "categories = main_div.find_elements(By.TAG_NAME, \"h3\")\n",
    "\n",
    "for category in categories:\n",
    "    highlight(category)\n",
    "    print(f\"Catégorie: {category.text}\\n{'-'*20}\")\n",
    "    \n",
    "    formation_index = categories.index(category) + 1\n",
    "    formation_cards = driver.find_elements(By.CSS_SELECTOR, f\"div.slider--formations:nth-of-type({formation_index}) a.card-formation--small\")\n",
    "\n",
    "    for card in formation_cards:\n",
    "        title_element = card.find_element(By.CLASS_NAME, \"card-formation__title\")\n",
    "        highlight(title_element)\n",
    "        title = title_element.text\n",
    "        print(\"Titre de la formation:\", title)\n",
    "\n",
    "        badge_list = card.find_element(By.CLASS_NAME, \"list-badge\")\n",
    "        badges = badge_list.find_elements(By.TAG_NAME, \"span\")\n",
    "        badge_texts = [badge.text for badge in badges]\n",
    "        print(\"Badges:\", \", \".join(badge_texts))\n",
    "\n",
    "        try:\n",
    "            paragraph_element = card.find_element(By.TAG_NAME, \"p\")\n",
    "            highlight(paragraph_element)\n",
    "            paragraph = paragraph_element.text\n",
    "        except:\n",
    "            paragraph = \"Pas de description disponible\"\n",
    "        print(\"Description:\", paragraph)\n",
    "\n",
    "        link = card.get_attribute('href')\n",
    "        print(\"Lien de la formation:\", link)\n",
    "        print(\"-\" * 30)\n",
    "\n",
    "    print(\"\\n\")\n",
    "\n",
    "driver.quit()\n"
   ]
  },
  {
   "cell_type": "code",
   "execution_count": 8,
   "metadata": {},
   "outputs": [],
   "source": []
  },
  {
   "cell_type": "code",
   "execution_count": null,
   "metadata": {},
   "outputs": [],
   "source": []
  },
  {
   "cell_type": "code",
   "execution_count": null,
   "metadata": {},
   "outputs": [],
   "source": []
  }
 ],
 "metadata": {
  "kernelspec": {
   "display_name": "base",
   "language": "python",
   "name": "python3"
  },
  "language_info": {
   "codemirror_mode": {
    "name": "ipython",
    "version": 3
   },
   "file_extension": ".py",
   "mimetype": "text/x-python",
   "name": "python",
   "nbconvert_exporter": "python",
   "pygments_lexer": "ipython3",
   "version": "3.11.5"
  }
 },
 "nbformat": 4,
 "nbformat_minor": 2
}
